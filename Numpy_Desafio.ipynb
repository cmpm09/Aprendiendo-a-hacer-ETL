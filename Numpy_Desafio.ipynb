{
  "nbformat": 4,
  "nbformat_minor": 0,
  "metadata": {
    "colab": {
      "provenance": []
    },
    "kernelspec": {
      "name": "python3",
      "display_name": "Python 3"
    },
    "language_info": {
      "name": "python"
    }
  },
  "cells": [
    {
      "cell_type": "markdown",
      "source": [
        "#Hacer lo que hicimos en clase\n",
        "Ha llegado el momento de poner a prueba los conocimientos adquiridos durante la lección. Para ello, vamos a utilizar otro conjunto de datos en un desafío que se desarrollará a lo largo del curso. Este conjunto de datos es una versión modificada del archivo disponible en el sitio de Kaggle. Por lo tanto, utilizaremos el archivo raw disponible en Github.\n",
        "\n",
        "En esta etapa, debes cargar los datos. Para hacerlo, importa NumPy y utiliza la función loadtxt. Utiliza el enlace de la URL y el parámetro usecols para omitir la primera columna. Puedes usar np.arange para crear la secuencia de números que representan las columnas. Por último, también es necesario incluir el parámetro skiprows=1 para que la primera línea de texto se omita al leer el archivo."
      ],
      "metadata": {
        "id": "JG8pCfaNSQZi"
      }
    },
    {
      "cell_type": "code",
      "execution_count": 2,
      "metadata": {
        "id": "fO3oe-oUSIlJ"
      },
      "outputs": [],
      "source": [
        "import numpy as np"
      ]
    },
    {
      "cell_type": "code",
      "source": [
        "url = 'https://gist.githubusercontent.com/ahcamachod/9be09de793dc3bf1e6c3d98eb4e5b1ef/raw/21b85572693200040e11284ef6dcfc3457ec8e11/citrus.csv'\n"
      ],
      "metadata": {
        "id": "c6WBwiFRSOto"
      },
      "execution_count": 3,
      "outputs": []
    },
    {
      "cell_type": "code",
      "source": [
        "datos = np.loadtxt(url, delimiter=',', usecols=np.arange(1, 6, 1), skiprows=1)"
      ],
      "metadata": {
        "id": "uL0sa7DRSoWI"
      },
      "execution_count": 4,
      "outputs": []
    },
    {
      "cell_type": "code",
      "source": [
        "print(datos.shape)"
      ],
      "metadata": {
        "colab": {
          "base_uri": "https://localhost:8080/"
        },
        "id": "T5tezt8JT1lN",
        "outputId": "f4775424-4461-449b-f4c3-860f0531b8b3"
      },
      "execution_count": 5,
      "outputs": [
        {
          "output_type": "stream",
          "name": "stdout",
          "text": [
            "(10000, 5)\n"
          ]
        }
      ]
    },
    {
      "cell_type": "code",
      "source": [
        "datos_transpuestos = datos.T"
      ],
      "metadata": {
        "id": "8XYPCgtuT-MS"
      },
      "execution_count": 6,
      "outputs": []
    },
    {
      "cell_type": "markdown",
      "source": [
        "Debes seleccionar parte de los datos. Las columnas que evaluaremos son el diámetro y el peso.\n",
        "\n",
        "Crea arrays específicos para almacenar el diámetro y el peso de la naranja y la toronja. El diámetro está en la columna cero y el peso en la columna uno. Los datos de las naranjas van hasta la fila 4999 y los datos de las toronjas comienzan en la fila 5000 del archivo.\n",
        "\n",
        "Después de seleccionar los datos, importa la biblioteca matplotlib y crea un gráfico para el peso en función del diámetro tanto para las naranjas como para las toronjas."
      ],
      "metadata": {
        "id": "GNPsBXCTxm2t"
      }
    },
    {
      "cell_type": "code",
      "source": [
        "peso = datos_transpuestos[1]\n",
        "peso"
      ],
      "metadata": {
        "colab": {
          "base_uri": "https://localhost:8080/"
        },
        "id": "Jq5PQApzx0Wz",
        "outputId": "c5e971ba-3da5-4986-a868-28997cb1bb67"
      },
      "execution_count": 7,
      "outputs": [
        {
          "output_type": "execute_result",
          "data": {
            "text/plain": [
              "array([ 86.76,  88.05,  95.17, ..., 256.5 , 260.14, 261.51])"
            ]
          },
          "metadata": {},
          "execution_count": 7
        }
      ]
    },
    {
      "cell_type": "code",
      "source": [
        "diametro = datos_transpuestos[0]\n",
        "diametro"
      ],
      "metadata": {
        "colab": {
          "base_uri": "https://localhost:8080/"
        },
        "id": "Jo7K4P5XyIZJ",
        "outputId": "018fee8f-efd0-4295-f9b8-d9571adc326c"
      },
      "execution_count": 8,
      "outputs": [
        {
          "output_type": "execute_result",
          "data": {
            "text/plain": [
              "array([ 2.96,  3.91,  4.42, ..., 15.59, 15.92, 16.45])"
            ]
          },
          "metadata": {},
          "execution_count": 8
        }
      ]
    },
    {
      "cell_type": "code",
      "source": [
        "peso_na = peso[:4999]\n",
        "diametro_na = diametro[:4999]"
      ],
      "metadata": {
        "id": "KKMxyeg3yKC8"
      },
      "execution_count": 9,
      "outputs": []
    },
    {
      "cell_type": "code",
      "source": [
        "peso_to = peso[4999:]\n",
        "diametro_to = diametro[4999:]"
      ],
      "metadata": {
        "id": "Xb7A_15EzYcn"
      },
      "execution_count": 10,
      "outputs": []
    },
    {
      "cell_type": "code",
      "source": [
        "import matplotlib.pyplot as plt\n",
        "\n",
        "#plt.plot(x,y)\n",
        "plt.plot(peso_na,diametro_na)"
      ],
      "metadata": {
        "colab": {
          "base_uri": "https://localhost:8080/",
          "height": 447
        },
        "id": "O9z0Ak4vzfYi",
        "outputId": "a72797e6-148f-4efb-8014-51ba03aa6a0c"
      },
      "execution_count": 11,
      "outputs": [
        {
          "output_type": "execute_result",
          "data": {
            "text/plain": [
              "[<matplotlib.lines.Line2D at 0x7d551d0012d0>]"
            ]
          },
          "metadata": {},
          "execution_count": 11
        },
        {
          "output_type": "display_data",
          "data": {
            "text/plain": [
              "<Figure size 640x480 with 1 Axes>"
            ],
            "image/png": "[encoded data removed]"
          },
          "metadata": {}
        }
      ]
    },
    {
      "cell_type": "code",
      "source": [
        "#plt.plot(x,y)\n",
        "plt.plot(peso_to,diametro_to)"
      ],
      "metadata": {
        "colab": {
          "base_uri": "https://localhost:8080/",
          "height": 447
        },
        "id": "iLiPZCNuz4uQ",
        "outputId": "eb6b80cf-ab79-4e80-c183-5376244d85a0"
      },
      "execution_count": 12,
      "outputs": [
        {
          "output_type": "execute_result",
          "data": {
            "text/plain": [
              "[<matplotlib.lines.Line2D at 0x7d550828ff90>]"
            ]
          },
          "metadata": {},
          "execution_count": 12
        },
        {
          "output_type": "display_data",
          "data": {
            "text/plain": [
              "<Figure size 640x480 with 1 Axes>"
            ],
            "image/png": "[encoded data removed]"
          },
          "metadata": {}
        }
      ]
    },
    {
      "cell_type": "markdown",
      "source": [
        "Continuando con el proyecto de las naranjas/toronjas, ahora debes calcular el coeficiente angular y lineal para la recta de las naranjas y para la recta de las toronjas. Utiliza la fórmula de mínimos cuadrados para encontrar cada uno."
      ],
      "metadata": {
        "id": "ibhCP-PMze-c"
      }
    },
    {
      "cell_type": "markdown",
      "source": [
        "***Naranjas***"
      ],
      "metadata": {
        "id": "gcTc7uNoiaTA"
      }
    },
    {
      "cell_type": "code",
      "source": [
        "n = np.size(diametro_na)\n",
        "na_x = np.mean(peso_na)\n",
        "na_y = np.mean(diametro_na)"
      ],
      "metadata": {
        "id": "jaIIbyj8hWiu"
      },
      "execution_count": 17,
      "outputs": []
    },
    {
      "cell_type": "code",
      "source": [
        "na_a = (n*np.sum(na_x*na_y)-np.sum(na_x)*np.sum(na_y))/(n*np.sum(na_x**2)-np.sum(na_x)**2)\n",
        "na_b = np.mean(na_y)-na_a*np.mean(na_x)"
      ],
      "metadata": {
        "id": "36-kjccUhkxY"
      },
      "execution_count": 18,
      "outputs": []
    },
    {
      "cell_type": "code",
      "source": [
        "print(f'La pendiente es: {na_a}\\nLa intersección es: {na_b}')"
      ],
      "metadata": {
        "colab": {
          "base_uri": "https://localhost:8080/"
        },
        "id": "U_YKUtm8hqi-",
        "outputId": "06fa85b2-74f8-4146-d030-51242bc4e527"
      },
      "execution_count": 19,
      "outputs": [
        {
          "output_type": "stream",
          "name": "stdout",
          "text": [
            "La pendiente es: 0.05545903368568817\n",
            "La intersección es: 0.0\n"
          ]
        }
      ]
    },
    {
      "cell_type": "code",
      "source": [
        "na_y = na_a*na_x + na_b\n",
        "na_y"
      ],
      "metadata": {
        "colab": {
          "base_uri": "https://localhost:8080/"
        },
        "id": "vfU9cKEGhseg",
        "outputId": "cc9d38e6-2691-45fc-d916-5bd3379513d6"
      },
      "execution_count": 21,
      "outputs": [
        {
          "output_type": "execute_result",
          "data": {
            "text/plain": [
              "np.float64(8.47354470894179)"
            ]
          },
          "metadata": {},
          "execution_count": 21
        }
      ]
    },
    {
      "cell_type": "markdown",
      "source": [
        "***Toronjas***"
      ],
      "metadata": {
        "id": "Xa7OS-8die1j"
      }
    },
    {
      "cell_type": "code",
      "source": [
        "n = np.size(diametro_to)\n",
        "to_x = np.mean(peso_to)\n",
        "to_y = np.mean(diametro_to)"
      ],
      "metadata": {
        "id": "QPImxwQGiWBp"
      },
      "execution_count": 26,
      "outputs": []
    },
    {
      "cell_type": "code",
      "source": [
        "to_a = (n*np.sum(to_x*to_y)-np.sum(to_x)*np.sum(to_y))/(n*np.sum(to_x**2)-np.sum(to_x)**2)\n",
        "to_b = np.mean(to_y)-to_a*np.mean(to_x)"
      ],
      "metadata": {
        "id": "alJwmgvgihFp"
      },
      "execution_count": 27,
      "outputs": []
    },
    {
      "cell_type": "code",
      "source": [
        "print(f'La pendiente es: {to_a}\\nLa intersección es: {to_b}')"
      ],
      "metadata": {
        "colab": {
          "base_uri": "https://localhost:8080/"
        },
        "id": "XuqlvdVXii56",
        "outputId": "399ab3a1-7c5b-4d9c-9743-f79add9d2fcc"
      },
      "execution_count": 28,
      "outputs": [
        {
          "output_type": "stream",
          "name": "stdout",
          "text": [
            "La pendiente es: 0.0581704284626795\n",
            "La intersección es: -1.7763568394002505e-15\n"
          ]
        }
      ]
    },
    {
      "cell_type": "code",
      "source": [
        "to_y = to_a*to_x + to_b\n",
        "to_y"
      ],
      "metadata": {
        "colab": {
          "base_uri": "https://localhost:8080/"
        },
        "id": "FC-UA6nfillS",
        "outputId": "f8d4e202-4751-4a17-da78-78e491ba05e1"
      },
      "execution_count": 29,
      "outputs": [
        {
          "output_type": "execute_result",
          "data": {
            "text/plain": [
              "np.float64(11.477224555088984)"
            ]
          },
          "metadata": {},
          "execution_count": 29
        }
      ]
    },
    {
      "cell_type": "code",
      "source": [
        "# prompt: calcular el coeficiente angular utilizando la generación de números aleatorios. Supongamos que ya conoces el valor de b y que este es igual a 17.\n",
        "\n",
        "import numpy as np\n",
        "\n",
        "# Suponiendo que 'x' y 'y' son tus datos y 'b' es 17 (ya dado)\n",
        "# Generar datos aleatorios de ejemplo (reemplaza con tus datos reales)\n",
        "x = np.random.rand(100)  # 100 puntos de datos aleatorios para x\n",
        "y = 2 * x + 17 + np.random.normal(0, 0.5, 100) # y = mx + b + ruido\n",
        "\n",
        "\n",
        "# Calcular el coeficiente angular (m) usando la fórmula de mínimos cuadrados\n",
        "n = len(x)\n",
        "m = (n * np.sum(x * y) - np.sum(x) * np.sum(y)) / (n * np.sum(x**2) - np.sum(x)**2)\n",
        "\n",
        "\n",
        "print(f\"El coeficiente angular (m) calculado es: {m}\")\n"
      ],
      "metadata": {
        "colab": {
          "base_uri": "https://localhost:8080/"
        },
        "id": "JiRcWiaQChVv",
        "outputId": "a11dd0f7-7b1f-46bc-d407-0dfba86619e6"
      },
      "execution_count": 33,
      "outputs": [
        {
          "output_type": "stream",
          "name": "stdout",
          "text": [
            "El coeficiente angular (m) calculado es: 1.8718012753976407\n"
          ]
        }
      ]
    }
  ]
}